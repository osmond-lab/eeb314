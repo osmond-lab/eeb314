{
 "cells": [
  {
   "cell_type": "markdown",
   "id": "20b9dead-6e86-49b1-9b43-91ba49fd9cee",
   "metadata": {},
   "source": [
    "# Tutorial 6: Linear multivariate practice\n",
    "\n",
    "## Model\n",
    "\n",
    "Metastasis is a process by which cancer cells spread throughout the body. Sometimes cancer cells move via the bloodstream and become lodged in the capillaries of different organs. Some of these new cells then move across the capillary wall, where they initiate new tumours. We will construct a model for the dynamics of cancer cells lodged in the capillaries of an organ, $C$, and the number of cancer cells that have actually invaded that organ, $I$. Suppose that cells are lost from the capillaries by dislodgement or death at per capita rate $\\delta_1$ and that they invade the organ from the capillaries at a per capita rate $\\beta$. Once cells are in the organ they die at rate $\\delta_2$, and the cancer cells replicate at a per capita rate $\\rho$. This gives the differential equations\n",
    "\n",
    "$$\n",
    "\\begin{aligned}\n",
    "\\frac{\\mathrm{d}C}{\\mathrm{d}t} &= -\\delta_1 C - \\beta C\\\\\n",
    "\\frac{\\mathrm{d}I}{\\mathrm{d}t} &= \\beta C -\\delta_2 I + \\rho I.\n",
    "\\end{aligned}\n",
    "$$\n",
    "\n",
    "## Questions\n",
    "\n",
    "Write this in matrix form, $\\frac{\\mathrm{d}\\vec{n}}{\\mathrm{d}t} = \\mathbf{M}\\vec{n}$, specifying what $\\mathbf{M}$ and $\\vec{n}$ are.\n",
    "\n",
    "What is the equilibrium of this model?\n",
    "\n",
    "Calculate the eigenvalues of $\\mathbf{M}$. When is the equilibrium stable? (Based on the description of the model we can assume all parameters are positive.) Explain what this means biologically.\n",
    "\n",
    "Assuming the system is unstable, calculate the right eigenvector associated with the leading of $\\mathbf{M}$. Where are most of the cells in the long term?"
   ]
  }
 ],
 "metadata": {
  "kernelspec": {
   "display_name": "eeb314",
   "language": "python",
   "name": "eeb314"
  },
  "language_info": {
   "codemirror_mode": {
    "name": "ipython",
    "version": 3
   },
   "file_extension": ".py",
   "mimetype": "text/x-python",
   "name": "python",
   "nbconvert_exporter": "python",
   "pygments_lexer": "ipython3",
   "version": "3.12.3"
  }
 },
 "nbformat": 4,
 "nbformat_minor": 5
}
