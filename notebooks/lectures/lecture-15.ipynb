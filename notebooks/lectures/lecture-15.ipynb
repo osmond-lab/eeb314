{
 "cells": [
  {
   "cell_type": "markdown",
   "metadata": {},
   "source": [
    "# Lecture 15: Equilibria and stability (nonlinear multivariate)\n",
    "\n",
    "## Lecture overview\n",
    "\n",
    "1. [Continuous time](#section1)\n",
    "2. [Discrete time](#section2)\n",
    "5. [Summary](#section3)"
   ]
  },
  {
   "cell_type": "markdown",
   "metadata": {},
   "source": [
    "Now that we've covered linear multivariate models, we turn our attention to the most common type of model: one with multiple *interacting* variables.\n",
    "\n",
    "For example, a model of the number of susceptible, $S$, and infected, $I$, individuals often includes the interaction between these two variables, $SI$, describing the rate at which these two classes of individuals meet one another (and potentially spread disease). \n",
    "\n",
    "Similarly, models of predator, $P$, and prey, $N$, abundance often include terms like $NP$ describing the rate at which predators encounter prey (and potentially eat them).\n",
    "\n",
    "Let's first see how to deal with these models in general and then apply those techniques to specific circumstances like those mentioned above (in the next two lectures)."
   ]
  },
  {
   "cell_type": "markdown",
   "metadata": {},
   "source": [
    "<span id='section1'></span>\n",
    "## 1. Continuous time\n",
    "<hr>"
   ]
  },
  {
   "cell_type": "markdown",
   "metadata": {},
   "source": [
    "In general, if we have $n$ interacting variables, $x_1, x_2, ..., x_n$, we can write any continuous time model like\n",
    "\n",
    "$$\n",
    "\\begin{aligned}\n",
    "\\frac{\\mathrm{d}x_1}{\\mathrm{d}t} &=  f_1(x_1, x_2, ..., x_n)\\\\\n",
    "\\frac{\\mathrm{d}x_2}{\\mathrm{d}t} &=  f_2(x_1, x_2, ..., x_n)\\\\\n",
    "&\\vdots\\\\\n",
    "\\frac{\\mathrm{d}x_n}{\\mathrm{d}t} &=  f_n(x_1, x_2, ..., x_n)  \n",
    "\\end{aligned}\n",
    "$$\n",
    "\n",
    "If we then want to find the equilibria, $\\hat{x}_1,\\hat{x}_2, ..., \\hat{x}_n$, we set all these equations to 0 and solve for one variable at a time (note that solving for the equilibrium is not always possible in nonlinear models!)."
   ]
  },
  {
   "cell_type": "markdown",
   "metadata": {},
   "source": [
    "Now note that we can no longer write this system of equations in matrix form with a matrix composed only of parameters.\n",
    " \n",
    "In order to use what we've learned about eigenvalues and eigenvectors we're first going to have to **linearize** the system so that the corresponding matrices do not contain variables."
   ]
  },
  {
   "cell_type": "markdown",
   "metadata": {},
   "source": [
    "As we saw in nonlinear univariate models, one useful way to linearize a system is to measure the system relative to equilibrium, $\\epsilon = n - \\hat{n}$.\n",
    "\n",
    "Then assuming that the deviation from equilibrium, $\\epsilon$, is small, we used a Taylor series expansion to approximate the nonlinear system with a linear system.\n",
    "\n",
    "To do that with multivariate models we'll need to know how to take a Taylor series expansion of multivariate functions\n",
    "\n",
    "!!! note \"Taylor series expansion of a multivariate function\"\n",
    "\n",
    "    Taking the series of $f$ around $x_1=a_1$, $x_2=a_2$, ..., $x_n=a_n$ gives\n",
    "\n",
    "    $$\n",
    "    \\begin{aligned}\n",
    "    f(x_1, x_2, ..., x_n) &= f(a_1, a_2, ..., a_n)\\\\ \n",
    "    &+ \\sum_{i=1}^{n} \\left( \\frac{\\partial f}{\\partial x_i} \\bigg|_{x_1=a_1, x_2=a_2, ..., x_n=a_n} \\right) (x_i - a_i)\\\\\n",
    "    &+ \\sum_{i=1}^{n}\\sum_{j=1}^n \\left( \\frac{\\partial f}{\\partial x_i \\partial x_j} \\bigg|_{x_1=a_1, x_2=a_2, ..., x_n=a_n} \\right) (x_i - a_i)(x_j - a_j)\\\\\n",
    "    &+ \\cdots\n",
    "    \\end{aligned}\n",
    "    $$\n",
    "    \n",
    "    where $\\frac{\\partial f}{\\partial x_i}$ is the \"partial derivative\" of $f$ with respect to $x_i$, meaning that we treat all the other variables as constants when taking the derivative. \n",
    "\n",
    "Then when the difference between each variable and its value, $x_i-a_i$, is small enough we can ignore all the terms with a $(x_i-a_i)(x_j-a_j)$, and we are left with a **linear** approximation of $f$."
   ]
  },
  {
   "cell_type": "markdown",
   "metadata": {},
   "source": [
    "So let $\\epsilon_i = x_i - \\hat{x}_i$ be the deviation of variable $x_i$ from its equilibrium value, $\\hat{x}_i$.\n",
    "  \n",
    "Then we can write a system of equations describing the change in the deviations for all of our variables\n",
    "\n",
    "$$\n",
    "\\begin{aligned}\n",
    "\\frac{\\mathrm{d}\\epsilon_1}{\\mathrm{d}t} &=  f_1(x_1, x_2, ..., x_n)\\\\\n",
    "\\frac{\\mathrm{d}\\epsilon_2}{\\mathrm{d}t} &=  f_2(x_1, x_2, ..., x_n)\\\\\n",
    "&\\vdots\\\\\n",
    "\\frac{\\mathrm{d}\\epsilon_n}{\\mathrm{d}t} &=  f_n(x_1, x_2, ..., x_n)  \n",
    "\\end{aligned}\n",
    "$$\n",
    "\n",
    "And then we can take a Taylor series around $x_1=\\hat{x}_1, x_2=\\hat{x}_2, ..., x_n=\\hat{x}_n$ to get a linear approximation of our system near the equilibrium\n",
    "\n",
    "$$\n",
    "\\begin{aligned}\n",
    "\\frac{\\mathrm{d}\\epsilon_1}{\\mathrm{d}t} &\\approx  f_1(\\hat{x}_1, \\hat{x}_2, ..., \\hat{x}_n) + \\sum_{i=1}^{n} \\left( \\frac{\\partial f_1}{\\partial x_i} \\bigg|_{x_1=\\hat{x}_1, x_2=\\hat{x}_2, ..., x_n=\\hat{x}_n} \\right) (x_i - \\hat{x}_i)\\\\\n",
    "\\frac{\\mathrm{d}\\epsilon_2}{\\mathrm{d}t} &\\approx  f_2(\\hat{x}_1, \\hat{x}_2, ..., \\hat{x}_n) + \\sum_{i=1}^{n} \\left( \\frac{\\partial f_2}{\\partial x_i} \\bigg|_{x_1=\\hat{x}_1, x_2=\\hat{x}_2, ..., x_n=\\hat{x}_n} \\right) (x_i - \\hat{x}_i)\\\\\n",
    "&\\vdots\\\\\n",
    "\\frac{\\mathrm{d}\\epsilon_n}{\\mathrm{d}t} &\\approx  f_n(\\hat{x}_1, \\hat{x}_2, ..., \\hat{x}_n) + \\sum_{i=1}^{n} \\left( \\frac{\\partial f_n}{\\partial x_i} \\bigg|_{x_1=\\hat{x}_1, x_2=\\hat{x}_2, ..., x_n=\\hat{x}_n} \\right) (x_i - \\hat{x}_i)\n",
    "\\end{aligned}\n",
    "$$"
   ]
  },
  {
   "cell_type": "markdown",
   "metadata": {},
   "source": [
    "And then note that all $f_i(\\hat{x}_1, \\hat{x}_2, ..., \\hat{x}_n)=0$ by definition of a equilibrium, leaving\n",
    "\n",
    "$$\n",
    "\\begin{aligned}\n",
    "\\frac{\\mathrm{d}\\epsilon_1}{\\mathrm{d}t} &\\approx \\sum_{i=1}^{n} \\left( \\frac{\\partial f_1}{\\partial x_i} \\bigg|_{x_1=\\hat{x}_1, x_2=\\hat{x}_2, ..., x_n=\\hat{x}_n} \\right) (x_i - \\hat{x}_i)\\\\\n",
    "\\frac{\\mathrm{d}\\epsilon_2}{\\mathrm{d}t} &\\approx \\sum_{i=1}^{n} \\left( \\frac{\\partial f_2}{\\partial x_i} \\bigg|_{x_1=\\hat{x}_1, x_2=\\hat{x}_2, ..., x_n=\\hat{x}_n} \\right) (x_i - \\hat{x}_i)\\\\\n",
    "&\\vdots\\\\\n",
    "\\frac{\\mathrm{d}\\epsilon_n}{\\mathrm{d}t} &\\approx  \\sum_{i=1}^{n} \\left( \\frac{\\partial f_n}{\\partial x_i} \\bigg|_{x_1=\\hat{x}_1, x_2=\\hat{x}_2, ..., x_n=\\hat{x}_n} \\right) (x_i - \\hat{x}_i)\n",
    "\\end{aligned}\n",
    "$$\n",
    "\n",
    "Each of the partial derivatives $\\frac{\\partial f_i}{\\partial x_j}$ is evaluated at the equilibrium, so these are constants. And $x_i - \\hat{x}_i = \\epsilon_i$. So we now have a linear system\n",
    "\n",
    "$$\n",
    "\\begin{aligned}\n",
    "\\frac{\\mathrm{d}\\epsilon_1}{\\mathrm{d}t} &\\approx \\sum_{i=1}^{n} \\left( \\frac{\\partial f_1}{\\partial x_i} \\bigg|_{x_1=\\hat{x}_1, x_2=\\hat{x}_2, ..., x_n=\\hat{x}_n} \\right) \\epsilon_i\\\\\n",
    "\\frac{\\mathrm{d}\\epsilon_2}{\\mathrm{d}t} &\\approx \\sum_{i=1}^{n} \\left( \\frac{\\partial f_2}{\\partial x_i} \\bigg|_{x_1=\\hat{x}_1, x_2=\\hat{x}_2, ..., x_n=\\hat{x}_n} \\right) \\epsilon_i\\\\\n",
    "&\\vdots\\\\\n",
    "\\frac{\\mathrm{d}\\epsilon_n}{\\mathrm{d}t} &\\approx  \\sum_{i=1}^{n} \\left( \\frac{\\partial f_n}{\\partial x_i} \\bigg|_{x_1=\\hat{x}_1, x_2=\\hat{x}_2, ..., x_n=\\hat{x}_n} \\right) \\epsilon_i\n",
    "\\end{aligned}\n",
    "$$"
   ]
  },
  {
   "cell_type": "markdown",
   "metadata": {},
   "source": [
    "We can now write our approximate system around the equilibrium in matrix form\n",
    "\n",
    "$$\n",
    "\\begin{aligned}\n",
    "\\begin{pmatrix} \\frac{\\mathrm{d}\\epsilon_1}{\\mathrm{d}t} \\\\ \\frac{\\mathrm{d}\\epsilon_2}{\\mathrm{d}t} \\\\ \\vdots \\\\ \\frac{\\mathrm{d}\\epsilon_n}{\\mathrm{d}t} \\end{pmatrix}\n",
    "=\n",
    "\\begin{pmatrix}\n",
    "\\frac{\\partial f_1}{\\partial x_1} & \\frac{\\partial f_1}{\\partial x_2} & \\cdots & \\frac{\\partial f_1}{\\partial x_n}\\\\\n",
    "\\frac{\\partial f_2}{\\partial x_1} & \\frac{\\partial f_2}{\\partial x_2} & \\cdots & \\frac{\\partial f_2}{\\partial x_n}\\\\\n",
    "\\vdots & \\vdots & \\vdots & \\vdots \\\\\n",
    "\\frac{\\partial f_n}{\\partial x_1} & \\frac{\\partial f_n}{\\partial x_2} & \\cdots & \\frac{\\partial f_n}{\\partial x_n}\n",
    "\\end{pmatrix}_{x_1=\\hat{x}_1, x_2=\\hat{x}_2, ..., x_n=\\hat{x}_n}\n",
    "\\begin{pmatrix} \\epsilon_1 \\\\ \\epsilon_2 \\\\ \\vdots \\\\ \\epsilon_n \\end{pmatrix}\n",
    "\\end{aligned}\n",
    "$$\n",
    "\n",
    "This is a special matrix called the **Jacobian**\n",
    "\n",
    "$$\n",
    "\\mathbf{J} = \n",
    "\\begin{pmatrix}\n",
    "\\frac{\\partial f_1}{\\partial x_1} & \\frac{\\partial f_1}{\\partial x_2} & \\cdots & \\frac{\\partial f_1}{\\partial x_n}\\\\\n",
    "\\frac{\\partial f_2}{\\partial x_1} & \\frac{\\partial f_2}{\\partial x_2} & \\cdots & \\frac{\\partial f_2}{\\partial x_n}\\\\\n",
    "\\vdots & \\vdots & \\vdots & \\vdots \\\\\n",
    "\\frac{\\partial f_n}{\\partial x_1} & \\frac{\\partial f_n}{\\partial x_2} & \\cdots & \\frac{\\partial f_n}{\\partial x_n}\n",
    "\\end{pmatrix}\n",
    "$$\n",
    "\n",
    "And now that we have a linear system around an equilibrium, we can assess its **local stability** just as we did with linear multivariate models (see [Summary](#section3))."
   ]
  },
  {
   "cell_type": "markdown",
   "metadata": {},
   "source": [
    "<span id='section2'></span>\n",
    "## 2. Discrete time\n",
    "<hr>"
   ]
  },
  {
   "cell_type": "markdown",
   "metadata": {},
   "source": [
    "!!! note\n",
    "\n",
    "    The short version of this section is that we can do the same thing in discrete time -- local stability is determined by the eigenvalues of the Jacobian, where the functions in that Jacobian are now our recursions, $x_i(t+1) = f_i(x_1(t), x_2(t), ..., x_n(t))$.\n",
    "\n",
    "We can do something very similar for nonlinear multivariate models in discrete time\n",
    "\n",
    "$$\n",
    "\\begin{aligned}\n",
    "x_1(t+1) &=  f_1(x_1(t), x_2(t), ..., x_n(t))\\\\\n",
    "x_2(t+1) &=  f_2(x_1(t), x_2(t), ..., x_n(t))\\\\\n",
    "&\\vdots\\\\\n",
    "x_n(t+1) &=  f_n(x_1(t), x_2(t), ..., x_n(t))\\\\\n",
    "\\end{aligned}\n",
    "$$\n",
    "\n",
    "Now the equilibria are found by setting all $x_i(t+1) = x_i(t) = \\hat{x}_i$ and solving for the $\\hat{x}_i$ one at a time.\n",
    "\n",
    "To linearize the system around an equilibrium we again measure the system in terms of deviation from the equilibrium, $\\epsilon_i(t) = x_i(t) - \\hat{x}_i$, giving\n",
    "\n",
    "$$\n",
    "\\begin{aligned}\n",
    "\\epsilon_1(t+1) &=  f_1(x_1(t), x_2(t), ..., x_n(t)) - \\hat{x}_1\\\\\n",
    "\\epsilon_2(t+1) &=  f_2(x_1(t), x_2(t), ..., x_n(t)) - \\hat{x}_1\\\\\n",
    "&\\vdots\\\\\n",
    "\\epsilon_n(t+1) &=  f_n(x_1(t), x_2(t), ..., x_n(t)) - \\hat{x}_1\\\\\n",
    "\\end{aligned}\n",
    "$$"
   ]
  },
  {
   "cell_type": "markdown",
   "metadata": {},
   "source": [
    "Then taking the Taylor series of each $f_i$ around $x_1(t) = \\hat{x}_1, ..., x_n(t) = \\hat{x}_n$ we can approximate our system near the equilibrium as\n",
    "\n",
    "$$\n",
    "\\begin{aligned}\n",
    "  \\epsilon_1(t+1) &=  f_1(\\hat{x}_1, \\hat{x}_2, ..., \\hat{x}_n)  + \\sum_{i=1}^{n} \\left( \\frac{\\partial f_1}{\\partial x_i} \\bigg|_{x_1=\\hat{x}_1, x_2=\\hat{x}_2, ..., x_n=\\hat{x}_n} \\right) (x_i(t) - \\hat{x}_i) - \\hat{x}_1\\\\\n",
    "  \\epsilon_2(t+1) &=  f_2(\\hat{x}_1, \\hat{x}_2, ..., \\hat{x}_n) + \\sum_{i=1}^{n} \\left( \\frac{\\partial f_2}{\\partial x_i} \\bigg|_{x_1=\\hat{x}_1, x_2=\\hat{x}_2, ..., x_n=\\hat{x}_n} \\right) (x_i(t) - \\hat{x}_i) - \\hat{x}_2\\\\\n",
    "  &\\vdots\\\\\n",
    "  \\epsilon_n(t+1) &=  f_n(\\hat{x}_1, \\hat{x}_2, ..., \\hat{x}_n) + \\sum_{i=1}^{n} \\left( \\frac{\\partial f_n}{\\partial x_i} \\bigg|_{x_1=\\hat{x}_1, x_2=\\hat{x}_2, ..., x_n=\\hat{x}_n} \\right) (x_i(t) - \\hat{x}_i) - \\hat{x}_n\\\\\n",
    "  \\end{aligned}\n",
    "$$\n",
    "\n",
    "And noting that $f_i(\\hat{x}_1, \\hat{x}_2, ..., \\hat{x}_n) = \\hat{x}_i$ and $x_i(t) - \\hat{x}_i = \\epsilon_i(t)$ we have\n",
    "\n",
    "$$\n",
    "\\begin{aligned}\n",
    "  \\epsilon_1(t+1) &= \\sum_{i=1}^{n} \\left( \\frac{\\partial f_1}{\\partial x_i} \\bigg|_{x_1=\\hat{x}_1, x_2=\\hat{x}_2, ..., x_n=\\hat{x}_n} \\right) \\epsilon_i(t)\\\\\n",
    "  \\epsilon_2(t+1) &= \\sum_{i=1}^{n} \\left( \\frac{\\partial f_2}{\\partial x_i} \\bigg|_{x_1=\\hat{x}_1, x_2=\\hat{x}_2, ..., x_n=\\hat{x}_n} \\right) \\epsilon_i(t)\\\\\n",
    "  &\\vdots\\\\\n",
    "  \\epsilon_n(t+1) &= \\sum_{i=1}^{n} \\left( \\frac{\\partial f_n}{\\partial x_i} \\bigg|_{x_1=\\hat{x}_1, x_2=\\hat{x}_2, ..., x_n=\\hat{x}_n} \\right) \\epsilon_i(t)\\\\\n",
    "  \\end{aligned}\n",
    "$$"
   ]
  },
  {
   "cell_type": "markdown",
   "metadata": {},
   "source": [
    "We can therefore write our approximation around the equilibrium in matrix form\n",
    "\n",
    "$$\n",
    "\\begin{aligned}\n",
    "\\begin{pmatrix} \\epsilon_1(t+1) \\\\ \\epsilon_2(t+1) \\\\ \\vdots \\\\ \\epsilon_n(t+1) \\end{pmatrix}\n",
    "=\n",
    "\\begin{pmatrix}\n",
    "\\frac{\\partial f_1}{\\partial x_1} & \\frac{\\partial f_1}{\\partial x_2} & \\cdots & \\frac{\\partial f_1}{\\partial x_n}\\\\\n",
    "\\frac{\\partial f_2}{\\partial x_1} & \\frac{\\partial f_2}{\\partial x_2} & \\cdots & \\frac{\\partial f_2}{\\partial x_n}\\\\\n",
    "\\vdots & \\vdots & \\vdots & \\vdots \\\\\n",
    "\\frac{\\partial f_n}{\\partial x_1} & \\frac{\\partial f_n}{\\partial x_2} & \\cdots & \\frac{\\partial f_n}{\\partial x_n}\n",
    "\\end{pmatrix}_{x_1=\\hat{x}_1, x_2=\\hat{x}_2, ..., x_n=\\hat{x}_n}\n",
    "\\begin{pmatrix} \\epsilon_1(t) \\\\ \\epsilon_2(t) \\\\ \\vdots \\\\ \\epsilon_n(t) \\end{pmatrix}\n",
    "\\end{aligned}\n",
    "$$\n",
    "\n",
    "As in continuous time, the dynamics are described by the **Jacobian** matrix\n",
    "\n",
    "$$\n",
    "\\mathbf{J} = \n",
    "\\begin{pmatrix}\n",
    "\\frac{\\partial f_1}{\\partial x_1} & \\frac{\\partial f_1}{\\partial x_2} & \\cdots & \\frac{\\partial f_1}{\\partial x_n}\\\\\n",
    "\\frac{\\partial f_2}{\\partial x_1} & \\frac{\\partial f_2}{\\partial x_2} & \\cdots & \\frac{\\partial f_2}{\\partial x_n}\\\\\n",
    "\\vdots & \\vdots & \\vdots & \\vdots \\\\\n",
    "\\frac{\\partial f_n}{\\partial x_1} & \\frac{\\partial f_n}{\\partial x_2} & \\cdots & \\frac{\\partial f_n}{\\partial x_n}\n",
    "\\end{pmatrix}\n",
    "$$\n",
    "\n",
    "We therefore assess the **local stability** of an equilibrium by evaluating the Jacobian at that equilibrium and finding the eigenvalues (see [Summary](#section3))."
   ]
  },
  {
   "cell_type": "markdown",
   "metadata": {},
   "source": [
    "<span id='section3'></span>\n",
    "## 3. Summary\n",
    "<hr>"
   ]
  },
  {
   "cell_type": "markdown",
   "metadata": {},
   "source": [
    "We can determine the stability of nonlinear multivariate models with the eigenvalues of the Jacobian evaluated at an equilibrium. The recipe is\n",
    " \n",
    "- Find the equilibrium of interest, $\\hat{x}_1, \\hat{x}_2, ... \\hat{x}_n$\n",
    "- Calculate the Jacobian, $\\mathbf{J}$\n",
    "- Evaluate the Jacobian at the equilibrium of interest, $\\mathbf{J}_{x_1=\\hat{x}_1, x_2=\\hat{x}_2, ..., x_n=\\hat{x}_n}$\n",
    "- Calculate the characteristic polynomial $|\\mathbf{J}_{x_1=\\hat{x}_1, x_2=\\hat{x}_2, ..., x_n=\\hat{x}_n} - \\lambda\\mathbf{I}|$ \n",
    "- Set the characteristic polynomial equal to 0 and solve for the $n$ eigenvalues, $\\lambda$\n",
    "  \n",
    "!!! info \"Stability reminder\"\n",
    "\n",
    "    **Continuous time**\n",
    "\n",
    "    - the leading eigenvalue is the one with the **largest real part**\n",
    "    - if the leading eigenvalue has a **negative real part** the equilibrium is stable\n",
    "    - if any eigenvalue has a non-zero complex part there will be cycling\n",
    "\n",
    "    **Discrete time**\n",
    "\n",
    "    - the leading eigenvalue is the one with the **largest absolute value**\n",
    "    - if the leading eigenvalue has an **absolute value less than one** the equilibrium is stable\n",
    "    - if any eigenvalue has a non-zero complex part there will be cycling"
   ]
  }
 ],
 "metadata": {
  "kernelspec": {
   "display_name": "Python 3 (ipykernel)",
   "language": "python",
   "name": "python3"
  },
  "language_info": {
   "codemirror_mode": {
    "name": "ipython",
    "version": 3
   },
   "file_extension": ".py",
   "mimetype": "text/x-python",
   "name": "python",
   "nbconvert_exporter": "python",
   "pygments_lexer": "ipython3",
   "version": "3.11.5"
  }
 },
 "nbformat": 4,
 "nbformat_minor": 4
}
