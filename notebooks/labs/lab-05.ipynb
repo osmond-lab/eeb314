{
 "cells": [
  {
   "cell_type": "markdown",
   "metadata": {},
   "source": [
    "# Lab 5: Eigenvalues, eigenvectors, and linear multivariate solutions"
   ]
  },
  {
   "cell_type": "markdown",
   "metadata": {},
   "source": [
    "How do we use Python to find eigenvalues and eigenvectors? "
   ]
  },
  {
   "cell_type": "markdown",
   "metadata": {},
   "source": [
    "Let's say we have a simple 2x2 matrix"
   ]
  },
  {
   "cell_type": "code",
   "execution_count": null,
   "metadata": {},
   "outputs": [],
   "source": [
    "from sympy import *\n",
    "var('a,b,c,d')\n",
    "M = Matrix([[a,b],\n",
    "            [c,d]])\n",
    "M"
   ]
  },
  {
   "cell_type": "markdown",
   "metadata": {},
   "source": [
    "To find both the eigenvalues and eigenvectors we can then use SymPy's built in `eigenvects` function"
   ]
  },
  {
   "cell_type": "code",
   "execution_count": null,
   "metadata": {},
   "outputs": [],
   "source": [
    "es = M.eigenvects()\n",
    "es"
   ]
  },
  {
   "cell_type": "markdown",
   "metadata": {},
   "source": [
    "This is a list of length 2, where the first item is"
   ]
  },
  {
   "cell_type": "code",
   "execution_count": null,
   "metadata": {},
   "outputs": [],
   "source": [
    "es0 = es[0]\n",
    "es0"
   ]
  },
  {
   "cell_type": "markdown",
   "metadata": {},
   "source": [
    "which is a \"tuple\" (essentially a list) of length 3. The first item is an eigenvalue"
   ]
  },
  {
   "cell_type": "code",
   "execution_count": null,
   "metadata": {},
   "outputs": [],
   "source": [
    "es0[0]"
   ]
  },
  {
   "cell_type": "markdown",
   "metadata": {},
   "source": [
    "the second item is the \"multiplicity\" of that eigenvalue (sometimes there are multiple eigenvalues with the same value, and the multiplicity is how many eigenvalues have this value)"
   ]
  },
  {
   "cell_type": "code",
   "execution_count": null,
   "metadata": {},
   "outputs": [],
   "source": [
    "es0[1]"
   ]
  },
  {
   "cell_type": "markdown",
   "metadata": {},
   "source": [
    "and the third item is a list of right eigenvectors (if the multiplicity is >1 then there can be more than one right eigenvector)"
   ]
  },
  {
   "cell_type": "code",
   "execution_count": null,
   "metadata": {},
   "outputs": [],
   "source": [
    "es0[2]"
   ]
  },
  {
   "cell_type": "markdown",
   "metadata": {},
   "source": [
    "In this case we can extract the only right eigenvector as the first item in that list"
   ]
  },
  {
   "cell_type": "code",
   "execution_count": null,
   "metadata": {},
   "outputs": [],
   "source": [
    "es0[2][0]"
   ]
  },
  {
   "cell_type": "markdown",
   "metadata": {},
   "source": [
    "The second item in the `eigenvects` list is another tuple giving the second eigenvalue, it's multiplicity, and the associated right eigenvector"
   ]
  },
  {
   "cell_type": "code",
   "execution_count": null,
   "metadata": {},
   "outputs": [],
   "source": [
    "es[1]"
   ]
  },
  {
   "cell_type": "markdown",
   "metadata": {},
   "source": [
    "We can also get the matrices of right eigenvectors ($\\mathbf{A}$) and eigenvalues ($\\mathbf{D}$) directly"
   ]
  },
  {
   "cell_type": "code",
   "execution_count": null,
   "metadata": {},
   "outputs": [],
   "source": [
    "A, D = M.diagonalize()\n",
    "A, D"
   ]
  },
  {
   "cell_type": "markdown",
   "metadata": {},
   "source": [
    "## Question"
   ]
  },
  {
   "cell_type": "markdown",
   "metadata": {},
   "source": [
    "Let's put this into practice by analyzing what is known as \"Kimura's two-parameter model of mutation\". Here we model how the number of adenines ($n_A$), guanines ($n_G$), cytosines ($n_C$), and thymines ($n_T$), in a sequence of DNA changes over generations. We assume that *transitions* (from A to G, G to A, C to T, and T to C) happen with probability $\\alpha$ per generation while *transversions* (the remainder of mutations, which are generally less likely because they alter the ring structure of the DNA) happen with probability $\\beta$ per generation. We assume no other force but mutation is acting (this is a \"neutral\" model, where there is no selection). The system of linear recursion equations is, in matrix form,\n",
    "\n",
    "$$\n",
    "\\begin{pmatrix}\n",
    "n_A(t+1) \\\\ n_G(t+1) \\\\ n_C(t+1) \\\\ n_T(t+1)\n",
    "\\end{pmatrix}\n",
    "= \n",
    "\\begin{pmatrix}\n",
    "1-\\alpha-2\\beta & \\alpha & \\beta & \\beta \\\\\n",
    "\\alpha & 1-\\alpha-2\\beta & \\beta & \\beta \\\\\n",
    "\\beta & \\beta & 1-\\alpha-2\\beta & \\alpha \\\\\n",
    "\\beta & \\beta & \\alpha & 1-\\alpha-2\\beta \\\\\n",
    "\\end{pmatrix}\n",
    "\\begin{pmatrix}\n",
    "n_A(t) \\\\ n_G(t) \\\\ n_C(t) \\\\ n_T(t)\n",
    "\\end{pmatrix}\n",
    "$$"
   ]
  },
  {
   "cell_type": "markdown",
   "metadata": {},
   "source": [
    "Use the general solution, $\\vec{n}(t) = \\mathbf{A} \\mathbf{D}^t \\mathbf{A}^{-1} \\vec{n}(0)$, to calculate the fraction of each nucleotide after 100 million generations assuming $\\alpha=10^{-7}$, $\\beta=10^{-8}$, and $\\vec{n}(0) = \\begin{pmatrix} 0.1 \\\\ 0.25 \\\\ 0.25 \\\\ 0.4 \\end{pmatrix}$. (Note that we switched from the *number* of each nucleotide to the *fraction* of each nucleotide, which is fine since the total number of nucleotides will remain constant, meaning we can convert between numbers and fractions without loss of information). Explain the correspondance of your answer with the right eigenvector associated with the leading eigenvalue."
   ]
  },
  {
   "cell_type": "code",
   "execution_count": null,
   "metadata": {},
   "outputs": [],
   "source": []
  }
 ],
 "metadata": {
  "kernelspec": {
   "display_name": "eeb314",
   "language": "python",
   "name": "eeb314"
  },
  "language_info": {
   "codemirror_mode": {
    "name": "ipython",
    "version": 3
   },
   "file_extension": ".py",
   "mimetype": "text/x-python",
   "name": "python",
   "nbconvert_exporter": "python",
   "pygments_lexer": "ipython3",
   "version": "3.12.3"
  }
 },
 "nbformat": 4,
 "nbformat_minor": 4
}
