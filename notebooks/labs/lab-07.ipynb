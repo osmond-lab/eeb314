{
 "cells": [
  {
   "cell_type": "markdown",
   "id": "f57e0ca4",
   "metadata": {},
   "source": [
    "# Lab 7: Lotka-Volterra competition\n",
    "\n",
    "## Model\n",
    "\n",
    "Let's continue with our model of competition,\n",
    "\n",
    "$$\n",
    "\\frac{\\mathrm{d}n_1}{\\mathrm{d}t} = n_1 r_1 \\left(1 - \\frac{n_1 + \\alpha_{12}n_2}{K_1}\\right)\n",
    "$$\n",
    "\n",
    "$$\n",
    "\\frac{\\mathrm{d}n_2}{\\mathrm{d}t} = n_2 r_2 \\left(1 - \\frac{n_2 + \\alpha_{21}n_1}{K_2}\\right).\n",
    "$$"
   ]
  },
  {
   "cell_type": "markdown",
   "id": "1cf77d0c-c94b-4d54-bf43-626e1a0b188b",
   "metadata": {},
   "source": [
    "We can define these equations in sympy"
   ]
  },
  {
   "cell_type": "code",
   "execution_count": 1,
   "id": "0781c4ea-f183-40b4-ab42-cacac4cafaee",
   "metadata": {},
   "outputs": [],
   "source": [
    "from sympy import *\n",
    "\n",
    "# define parameters and variables\n",
    "n1,n2,r1,r2,a12,a21,k1,k2 = symbols('n_1,n_2,r_1,r_2,a_12,a_21,k_1,k_2')\n",
    "\n",
    "# define differential equations\n",
    "dn1dt = n1*r1*(1 - (n1 + a12*n2)/k1)\n",
    "dn2dt = n2*r2*(1 - (n2 + a21*n1)/k2)"
   ]
  },
  {
   "cell_type": "markdown",
   "id": "6e343d1b-752c-403c-99fb-a5a9573fac4c",
   "metadata": {},
   "source": [
    "solve for the equilibria"
   ]
  },
  {
   "cell_type": "code",
   "execution_count": 5,
   "id": "65dec59e-5fe7-41e0-a3c7-21597a0f38e5",
   "metadata": {},
   "outputs": [
    {
     "data": {
      "text/plain": [
       "[(0, 0),\n",
       " (0, k_2),\n",
       " (k_1, 0),\n",
       " ((a_12*k_2 - k_1)/(a_12*a_21 - 1), (a_21*k_1 - k_2)/(a_12*a_21 - 1))]"
      ]
     },
     "execution_count": 5,
     "metadata": {},
     "output_type": "execute_result"
    }
   ],
   "source": [
    "eq = solve([dn1dt,dn2dt],[n1,n2])\n",
    "eq"
   ]
  },
  {
   "cell_type": "markdown",
   "id": "3ca0fcc2-deca-4d44-8a78-7ee68f4fa7c5",
   "metadata": {},
   "source": [
    "define the jacobian"
   ]
  },
  {
   "cell_type": "code",
   "execution_count": 9,
   "id": "6f616a3f-ddc3-4178-a950-e24ad6047ca3",
   "metadata": {},
   "outputs": [
    {
     "data": {
      "text/latex": [
       "$\\displaystyle \\left[\\begin{matrix}r_{1} \\left(1 - \\frac{a_{12} n_{2} + n_{1}}{k_{1}}\\right) - \\frac{n_{1} r_{1}}{k_{1}} & - \\frac{a_{12} n_{1} r_{1}}{k_{1}}\\\\- \\frac{a_{21} n_{2} r_{2}}{k_{2}} & r_{2} \\left(1 - \\frac{a_{21} n_{1} + n_{2}}{k_{2}}\\right) - \\frac{n_{2} r_{2}}{k_{2}}\\end{matrix}\\right]$"
      ],
      "text/plain": [
       "Matrix([\n",
       "[r_1*(1 - (a_12*n_2 + n_1)/k_1) - n_1*r_1/k_1,                            -a_12*n_1*r_1/k_1],\n",
       "[                           -a_21*n_2*r_2/k_2, r_2*(1 - (a_21*n_1 + n_2)/k_2) - n_2*r_2/k_2]])"
      ]
     },
     "execution_count": 9,
     "metadata": {},
     "output_type": "execute_result"
    }
   ],
   "source": [
    "J = Matrix([dn1dt,dn2dt]).jacobian([n1,n2])\n",
    "J"
   ]
  },
  {
   "cell_type": "markdown",
   "id": "691d12bd-1ff6-4936-bd6a-d7187fc46c03",
   "metadata": {},
   "source": [
    "and evaluate the Jacobian at the coexistence equilibrium (where neither species is extinct)"
   ]
  },
  {
   "cell_type": "code",
   "execution_count": 49,
   "id": "ed19d2ef-9a0e-4dd7-a5da-2b48da5fe5d8",
   "metadata": {},
   "outputs": [
    {
     "data": {
      "text/latex": [
       "$\\displaystyle \\left[\\begin{matrix}\\frac{r_{1} \\left(- a_{12} k_{2} + k_{1}\\right)}{k_{1} \\left(a_{12} a_{21} - 1\\right)} & \\frac{a_{21} r_{2} \\left(- a_{21} k_{1} + k_{2}\\right)}{k_{2} \\left(a_{12} a_{21} - 1\\right)}\\\\\\frac{a_{12} r_{1} \\left(- a_{12} k_{2} + k_{1}\\right)}{k_{1} \\left(a_{12} a_{21} - 1\\right)} & \\frac{r_{2} \\left(- a_{21} k_{1} + k_{2}\\right)}{k_{2} \\left(a_{12} a_{21} - 1\\right)}\\end{matrix}\\right]$"
      ],
      "text/plain": [
       "Matrix([\n",
       "[     r_1*(-a_12*k_2 + k_1)/(k_1*(a_12*a_21 - 1)), a_21*r_2*(-a_21*k_1 + k_2)/(k_2*(a_12*a_21 - 1))],\n",
       "[a_12*r_1*(-a_12*k_2 + k_1)/(k_1*(a_12*a_21 - 1)),      r_2*(-a_21*k_1 + k_2)/(k_2*(a_12*a_21 - 1))]])"
      ]
     },
     "execution_count": 49,
     "metadata": {},
     "output_type": "execute_result"
    }
   ],
   "source": [
    "Jco = J.subs(n1,eq[-1][0]).subs(n2,eq[-1][1])\n",
    "Jco_simple = Matrix([[Jco[i,j].simplify() for i in range(2)] for j in range(2)])\n",
    "Jco_simple"
   ]
  },
  {
   "cell_type": "markdown",
   "id": "24297497-b97c-4171-a8ab-db0cd8c14057",
   "metadata": {},
   "source": [
    "## Question\n",
    "\n",
    "Use the Routh-Hurwitz criteria to determine when the coexistence equilibrium is stable given it is biologically valid. Assume all parameters are positive.\n",
    "\n",
    "You should find that stability of coexistence requires $\\alpha_{12}\\alpha_{21}<1$. What does this tell us, biologically?"
   ]
  },
  {
   "cell_type": "code",
   "execution_count": null,
   "id": "24b190c6-c614-48c4-b595-d656562eb7d8",
   "metadata": {},
   "outputs": [],
   "source": []
  }
 ],
 "metadata": {
  "kernelspec": {
   "display_name": "eeb314",
   "language": "python",
   "name": "eeb314"
  },
  "language_info": {
   "codemirror_mode": {
    "name": "ipython",
    "version": 3
   },
   "file_extension": ".py",
   "mimetype": "text/x-python",
   "name": "python",
   "nbconvert_exporter": "python",
   "pygments_lexer": "ipython3",
   "version": "3.12.3"
  }
 },
 "nbformat": 4,
 "nbformat_minor": 5
}
